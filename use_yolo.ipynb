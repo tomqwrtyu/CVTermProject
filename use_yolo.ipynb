{
 "cells": [
  {
   "cell_type": "code",
   "execution_count": 8,
   "metadata": {},
   "outputs": [
    {
     "name": "stdout",
     "output_type": "stream",
     "text": [
      "Defaulting to user installation because normal site-packages is not writeable\n",
      "Requirement already satisfied: ultralytics in /home/louis/.local/lib/python3.10/site-packages (8.0.117)\n",
      "Requirement already satisfied: psutil in /home/louis/.local/lib/python3.10/site-packages (from ultralytics) (5.9.4)\n",
      "Requirement already satisfied: tqdm>=4.64.0 in /home/louis/.local/lib/python3.10/site-packages (from ultralytics) (4.65.0)\n",
      "Requirement already satisfied: matplotlib>=3.2.2 in /home/louis/.local/lib/python3.10/site-packages (from ultralytics) (3.7.1)\n",
      "Requirement already satisfied: requests>=2.23.0 in /home/louis/.local/lib/python3.10/site-packages (from ultralytics) (2.28.2)\n",
      "Requirement already satisfied: torchvision>=0.8.1 in /home/louis/.local/lib/python3.10/site-packages (from ultralytics) (0.14.1)\n",
      "Requirement already satisfied: scipy>=1.4.1 in /home/louis/.local/lib/python3.10/site-packages (from ultralytics) (1.10.1)\n",
      "Requirement already satisfied: torch>=1.7.0 in /home/louis/.local/lib/python3.10/site-packages (from ultralytics) (1.13.1)\n",
      "Requirement already satisfied: Pillow>=7.1.2 in /usr/lib/python3/dist-packages (from ultralytics) (9.0.1)\n",
      "Requirement already satisfied: opencv-python>=4.6.0 in /home/louis/.local/lib/python3.10/site-packages (from ultralytics) (4.7.0.72)\n",
      "Requirement already satisfied: pandas>=1.1.4 in /home/louis/.local/lib/python3.10/site-packages (from ultralytics) (1.5.3)\n",
      "Requirement already satisfied: PyYAML>=5.3.1 in /usr/lib/python3/dist-packages (from ultralytics) (5.4.1)\n",
      "Requirement already satisfied: seaborn>=0.11.0 in /home/louis/.local/lib/python3.10/site-packages (from ultralytics) (0.12.2)\n",
      "Requirement already satisfied: kiwisolver>=1.0.1 in /home/louis/.local/lib/python3.10/site-packages (from matplotlib>=3.2.2->ultralytics) (1.4.4)\n",
      "Requirement already satisfied: numpy>=1.20 in /home/louis/.local/lib/python3.10/site-packages (from matplotlib>=3.2.2->ultralytics) (1.24.2)\n",
      "Requirement already satisfied: fonttools>=4.22.0 in /home/louis/.local/lib/python3.10/site-packages (from matplotlib>=3.2.2->ultralytics) (4.39.0)\n",
      "Requirement already satisfied: packaging>=20.0 in /home/louis/.local/lib/python3.10/site-packages (from matplotlib>=3.2.2->ultralytics) (23.0)\n",
      "Requirement already satisfied: contourpy>=1.0.1 in /home/louis/.local/lib/python3.10/site-packages (from matplotlib>=3.2.2->ultralytics) (1.0.7)\n",
      "Requirement already satisfied: python-dateutil>=2.7 in /home/louis/.local/lib/python3.10/site-packages (from matplotlib>=3.2.2->ultralytics) (2.8.2)\n",
      "Requirement already satisfied: cycler>=0.10 in /home/louis/.local/lib/python3.10/site-packages (from matplotlib>=3.2.2->ultralytics) (0.11.0)\n",
      "Requirement already satisfied: pyparsing>=2.3.1 in /usr/lib/python3/dist-packages (from matplotlib>=3.2.2->ultralytics) (2.4.7)\n",
      "Requirement already satisfied: pytz>=2020.1 in /home/louis/.local/lib/python3.10/site-packages (from pandas>=1.1.4->ultralytics) (2022.7.1)\n",
      "Requirement already satisfied: certifi>=2017.4.17 in /home/louis/.local/lib/python3.10/site-packages (from requests>=2.23.0->ultralytics) (2022.12.7)\n",
      "Requirement already satisfied: urllib3<1.27,>=1.21.1 in /home/louis/.local/lib/python3.10/site-packages (from requests>=2.23.0->ultralytics) (1.26.14)\n",
      "Requirement already satisfied: idna<4,>=2.5 in /home/louis/.local/lib/python3.10/site-packages (from requests>=2.23.0->ultralytics) (3.4)\n",
      "Requirement already satisfied: charset-normalizer<4,>=2 in /home/louis/.local/lib/python3.10/site-packages (from requests>=2.23.0->ultralytics) (3.0.1)\n",
      "Requirement already satisfied: typing-extensions in /home/louis/.local/lib/python3.10/site-packages (from torch>=1.7.0->ultralytics) (4.5.0)\n",
      "Requirement already satisfied: nvidia-cublas-cu11==11.10.3.66 in /home/louis/.local/lib/python3.10/site-packages (from torch>=1.7.0->ultralytics) (11.10.3.66)\n",
      "Requirement already satisfied: nvidia-cuda-runtime-cu11==11.7.99 in /home/louis/.local/lib/python3.10/site-packages (from torch>=1.7.0->ultralytics) (11.7.99)\n",
      "Requirement already satisfied: nvidia-cudnn-cu11==8.5.0.96 in /home/louis/.local/lib/python3.10/site-packages (from torch>=1.7.0->ultralytics) (8.5.0.96)\n",
      "Requirement already satisfied: nvidia-cuda-nvrtc-cu11==11.7.99 in /home/louis/.local/lib/python3.10/site-packages (from torch>=1.7.0->ultralytics) (11.7.99)\n",
      "Requirement already satisfied: wheel in /usr/lib/python3/dist-packages (from nvidia-cublas-cu11==11.10.3.66->torch>=1.7.0->ultralytics) (0.37.1)\n",
      "Requirement already satisfied: setuptools in /usr/lib/python3/dist-packages (from nvidia-cublas-cu11==11.10.3.66->torch>=1.7.0->ultralytics) (59.6.0)\n",
      "Requirement already satisfied: six>=1.5 in /usr/lib/python3/dist-packages (from python-dateutil>=2.7->matplotlib>=3.2.2->ultralytics) (1.16.0)\n"
     ]
    }
   ],
   "source": [
    "!pip install ultralytics\n"
   ]
  },
  {
   "cell_type": "code",
   "execution_count": 9,
   "metadata": {},
   "outputs": [],
   "source": [
    "from ultralytics import YOLO\n",
    "import cv2\n",
    "\n"
   ]
  },
  {
   "cell_type": "code",
   "execution_count": 10,
   "metadata": {},
   "outputs": [],
   "source": [
    "model = YOLO(\"./runs/detect/train8/weights/best.pt\")  # load a pretrained model (recommended for training)\n"
   ]
  },
  {
   "cell_type": "code",
   "execution_count": 11,
   "metadata": {},
   "outputs": [
    {
     "name": "stderr",
     "output_type": "stream",
     "text": [
      "\n",
      "0: 640x640 1 cup, 14.0ms\n",
      "Speed: 2.3ms preprocess, 14.0ms inference, 2.5ms postprocess per image at shape (1, 3, 640, 640)\n"
     ]
    }
   ],
   "source": [
    "#read image\n",
    "img = cv2.imread(\"./datasets/test/images/1A0u170000011g1xz7649_R_800_10000_Q90_jpg.rf.4bc0a8f3f3cf91a07575b135466ce012.jpg\")\n",
    "results = model(img)  # predict on an image\n"
   ]
  },
  {
   "cell_type": "code",
   "execution_count": 12,
   "metadata": {},
   "outputs": [],
   "source": [
    "for i, (result) in enumerate(results):\n",
    "    boxes = result.boxes\n",
    "    for box in boxes:\n",
    "        xyxy = box.xyxy[0]  # get box coordinates in (top, left, bottom, right) format\n",
    "        t = int(xyxy[0].item())\n",
    "        l = int(xyxy[1].item())\n",
    "        b = int(xyxy[2].item())\n",
    "        r = int(xyxy[3].item())\n",
    "        crop_img = img[l:r, t:b]\n"
   ]
  },
  {
   "cell_type": "code",
   "execution_count": 13,
   "metadata": {},
   "outputs": [
    {
     "data": {
      "text/plain": [
       "44"
      ]
     },
     "execution_count": 13,
     "metadata": {},
     "output_type": "execute_result"
    }
   ],
   "source": [
    "cv2.imshow(\"result\", crop_img)\n",
    "cv2.waitKey(0)"
   ]
  },
  {
   "cell_type": "code",
   "execution_count": 1,
   "metadata": {},
   "outputs": [
    {
     "ename": "ModuleNotFoundError",
     "evalue": "No module named 'cv2'",
     "output_type": "error",
     "traceback": [
      "\u001b[1;31m---------------------------------------------------------------------------\u001b[0m",
      "\u001b[1;31mModuleNotFoundError\u001b[0m                       Traceback (most recent call last)",
      "Cell \u001b[1;32mIn[1], line 1\u001b[0m\n\u001b[1;32m----> 1\u001b[0m \u001b[39mimport\u001b[39;00m \u001b[39mcv2\u001b[39;00m\n\u001b[0;32m      2\u001b[0m \u001b[39mfrom\u001b[39;00m \u001b[39multralytics\u001b[39;00m\u001b[39m.\u001b[39;00m\u001b[39myolo\u001b[39;00m\u001b[39m.\u001b[39;00m\u001b[39mengine\u001b[39;00m\u001b[39m.\u001b[39;00m\u001b[39mmodel\u001b[39;00m \u001b[39mimport\u001b[39;00m YOLO\n\u001b[0;32m      3\u001b[0m \u001b[39mfrom\u001b[39;00m \u001b[39mpyzbar\u001b[39;00m\u001b[39m.\u001b[39;00m\u001b[39mpyzbar\u001b[39;00m \u001b[39mimport\u001b[39;00m decode\n",
      "\u001b[1;31mModuleNotFoundError\u001b[0m: No module named 'cv2'"
     ]
    }
   ],
   "source": [
    "\"\"\" Some code from stackoverflow demonstarting how to crop image\n",
    "import cv2\n",
    "from ultralytics.yolo.engine.model import YOLO\n",
    "from pyzbar.pyzbar import decode\n",
    "\n",
    "    \n",
    "def on_predict_batch_end(predictor):\n",
    "    # results -> List[batch_size]\n",
    "    path, im, im0s, vid_cap, s = predictor.batch\n",
    "    predictor.results = zip(predictor.results, im0s)\n",
    "         \n",
    "\n",
    "model = YOLO(\"yolov8n.pt\")\n",
    "model.add_callback(\"on_predict_batch_end\", on_predict_batch_end)\n",
    "results = model.predict(source=\"0\", show=True, stream=True)\n",
    "for i, (result, im0) in enumerate(results):\n",
    "    boxes = result.boxes\n",
    "    for box in boxes:\n",
    "        xyxy = box.xyxy[0]  # get box coordinates in (top, left, bottom, right) format\n",
    "        t = int(xyxy[0].item())\n",
    "        l = int(xyxy[1].item())\n",
    "        b = int(xyxy[2].item())\n",
    "        r = int(xyxy[3].item())\n",
    "        crop_img = im0[l:r, t:b]\n",
    "        d = decode(crop_img)\n",
    "        print(d)\n",
    "        cv2.imshow('YOLO V8 crop', crop_img)  \n",
    "\"\"\"            "
   ]
  }
 ],
 "metadata": {
  "kernelspec": {
   "display_name": "Python 3",
   "language": "python",
   "name": "python3"
  },
  "language_info": {
   "codemirror_mode": {
    "name": "ipython",
    "version": 3
   },
   "file_extension": ".py",
   "mimetype": "text/x-python",
   "name": "python",
   "nbconvert_exporter": "python",
   "pygments_lexer": "ipython3",
   "version": "3.11.0"
  },
  "orig_nbformat": 4
 },
 "nbformat": 4,
 "nbformat_minor": 2
}
