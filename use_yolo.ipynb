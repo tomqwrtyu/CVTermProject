{
 "cells": [
  {
   "cell_type": "code",
   "execution_count": 1,
   "metadata": {},
   "outputs": [
    {
     "name": "stdout",
     "output_type": "stream",
     "text": [
      "^C\n"
     ]
    },
    {
     "name": "stdout",
     "output_type": "stream",
     "text": [
      "Collecting ultralytics\n",
      "  Downloading ultralytics-8.0.117-py3-none-any.whl (599 kB)\n",
      "     ------------------------------------ 599.6/599.6 kB 489.9 kB/s eta 0:00:00\n",
      "Requirement already satisfied: psutil in c:\\users\\micom\\appdata\\local\\packages\\pythonsoftwarefoundation.python.3.10_qbz5n2kfra8p0\\localcache\\local-packages\\python310\\site-packages (from ultralytics) (5.9.4)\n",
      "Collecting torchvision>=0.8.1\n",
      "  Downloading torchvision-0.15.2-cp310-cp310-win_amd64.whl (1.2 MB)\n",
      "     ---------------------------------------- 1.2/1.2 MB 1.4 MB/s eta 0:00:00\n",
      "Requirement already satisfied: PyYAML>=5.3.1 in c:\\users\\micom\\appdata\\local\\packages\\pythonsoftwarefoundation.python.3.10_qbz5n2kfra8p0\\localcache\\local-packages\\python310\\site-packages (from ultralytics) (6.0)\n",
      "Requirement already satisfied: opencv-python>=4.6.0 in c:\\users\\micom\\appdata\\local\\packages\\pythonsoftwarefoundation.python.3.10_qbz5n2kfra8p0\\localcache\\local-packages\\python310\\site-packages (from ultralytics) (4.7.0.72)\n",
      "Requirement already satisfied: Pillow>=7.1.2 in c:\\users\\micom\\appdata\\local\\packages\\pythonsoftwarefoundation.python.3.10_qbz5n2kfra8p0\\localcache\\local-packages\\python310\\site-packages (from ultralytics) (9.4.0)\n",
      "Requirement already satisfied: requests>=2.23.0 in c:\\users\\micom\\appdata\\local\\packages\\pythonsoftwarefoundation.python.3.10_qbz5n2kfra8p0\\localcache\\local-packages\\python310\\site-packages (from ultralytics) (2.28.2)\n",
      "Collecting seaborn>=0.11.0\n",
      "  Downloading seaborn-0.12.2-py3-none-any.whl (293 kB)\n",
      "     -------------------------------------- 293.3/293.3 kB 1.8 MB/s eta 0:00:00\n",
      "Requirement already satisfied: matplotlib>=3.2.2 in c:\\users\\micom\\appdata\\local\\packages\\pythonsoftwarefoundation.python.3.10_qbz5n2kfra8p0\\localcache\\local-packages\\python310\\site-packages (from ultralytics) (3.6.0)\n",
      "Requirement already satisfied: tqdm>=4.64.0 in c:\\users\\micom\\appdata\\local\\packages\\pythonsoftwarefoundation.python.3.10_qbz5n2kfra8p0\\localcache\\local-packages\\python310\\site-packages (from ultralytics) (4.64.1)\n",
      "Collecting torch>=1.7.0\n",
      "  Downloading torch-2.0.1-cp310-cp310-win_amd64.whl (172.3 MB)\n",
      "     -------------------------------------- 172.3/172.3 MB 1.8 MB/s eta 0:00:00\n",
      "Requirement already satisfied: scipy>=1.4.1 in c:\\users\\micom\\appdata\\local\\packages\\pythonsoftwarefoundation.python.3.10_qbz5n2kfra8p0\\localcache\\local-packages\\python310\\site-packages (from ultralytics) (1.9.1)\n",
      "Requirement already satisfied: pandas>=1.1.4 in c:\\users\\micom\\appdata\\local\\packages\\pythonsoftwarefoundation.python.3.10_qbz5n2kfra8p0\\localcache\\local-packages\\python310\\site-packages (from ultralytics) (1.5.3)\n",
      "Requirement already satisfied: contourpy>=1.0.1 in c:\\users\\micom\\appdata\\local\\packages\\pythonsoftwarefoundation.python.3.10_qbz5n2kfra8p0\\localcache\\local-packages\\python310\\site-packages (from matplotlib>=3.2.2->ultralytics) (1.0.5)\n",
      "Requirement already satisfied: pyparsing>=2.2.1 in c:\\users\\micom\\appdata\\local\\packages\\pythonsoftwarefoundation.python.3.10_qbz5n2kfra8p0\\localcache\\local-packages\\python310\\site-packages (from matplotlib>=3.2.2->ultralytics) (3.0.9)\n",
      "Requirement already satisfied: fonttools>=4.22.0 in c:\\users\\micom\\appdata\\local\\packages\\pythonsoftwarefoundation.python.3.10_qbz5n2kfra8p0\\localcache\\local-packages\\python310\\site-packages (from matplotlib>=3.2.2->ultralytics) (4.38.0)\n",
      "Requirement already satisfied: python-dateutil>=2.7 in c:\\users\\micom\\appdata\\local\\packages\\pythonsoftwarefoundation.python.3.10_qbz5n2kfra8p0\\localcache\\local-packages\\python310\\site-packages (from matplotlib>=3.2.2->ultralytics) (2.8.2)\n",
      "Requirement already satisfied: cycler>=0.10 in c:\\users\\micom\\appdata\\local\\packages\\pythonsoftwarefoundation.python.3.10_qbz5n2kfra8p0\\localcache\\local-packages\\python310\\site-packages (from matplotlib>=3.2.2->ultralytics) (0.11.0)\n",
      "Requirement already satisfied: numpy>=1.19 in c:\\users\\micom\\appdata\\local\\packages\\pythonsoftwarefoundation.python.3.10_qbz5n2kfra8p0\\localcache\\local-packages\\python310\\site-packages (from matplotlib>=3.2.2->ultralytics) (1.21.6)\n",
      "Requirement already satisfied: packaging>=20.0 in c:\\users\\micom\\appdata\\local\\packages\\pythonsoftwarefoundation.python.3.10_qbz5n2kfra8p0\\localcache\\local-packages\\python310\\site-packages (from matplotlib>=3.2.2->ultralytics) (23.0)\n",
      "Requirement already satisfied: kiwisolver>=1.0.1 in c:\\users\\micom\\appdata\\local\\packages\\pythonsoftwarefoundation.python.3.10_qbz5n2kfra8p0\\localcache\\local-packages\\python310\\site-packages (from matplotlib>=3.2.2->ultralytics) (1.4.4)\n",
      "Requirement already satisfied: pytz>=2020.1 in c:\\users\\micom\\appdata\\local\\packages\\pythonsoftwarefoundation.python.3.10_qbz5n2kfra8p0\\localcache\\local-packages\\python310\\site-packages (from pandas>=1.1.4->ultralytics) (2022.7.1)\n",
      "Requirement already satisfied: charset-normalizer<4,>=2 in c:\\users\\micom\\appdata\\local\\packages\\pythonsoftwarefoundation.python.3.10_qbz5n2kfra8p0\\localcache\\local-packages\\python310\\site-packages (from requests>=2.23.0->ultralytics) (3.0.1)\n",
      "Requirement already satisfied: certifi>=2017.4.17 in c:\\users\\micom\\appdata\\local\\packages\\pythonsoftwarefoundation.python.3.10_qbz5n2kfra8p0\\localcache\\local-packages\\python310\\site-packages (from requests>=2.23.0->ultralytics) (2022.12.7)\n",
      "Requirement already satisfied: urllib3<1.27,>=1.21.1 in c:\\users\\micom\\appdata\\local\\packages\\pythonsoftwarefoundation.python.3.10_qbz5n2kfra8p0\\localcache\\local-packages\\python310\\site-packages (from requests>=2.23.0->ultralytics) (1.26.14)\n",
      "Requirement already satisfied: idna<4,>=2.5 in c:\\users\\micom\\appdata\\local\\packages\\pythonsoftwarefoundation.python.3.10_qbz5n2kfra8p0\\localcache\\local-packages\\python310\\site-packages (from requests>=2.23.0->ultralytics) (3.4)\n",
      "Requirement already satisfied: typing-extensions in c:\\users\\micom\\appdata\\local\\packages\\pythonsoftwarefoundation.python.3.10_qbz5n2kfra8p0\\localcache\\local-packages\\python310\\site-packages (from torch>=1.7.0->ultralytics) (4.4.0)\n",
      "Collecting sympy\n",
      "  Downloading sympy-1.12-py3-none-any.whl (5.7 MB)\n",
      "     ---------------------------------------- 5.7/5.7 MB 875.5 kB/s eta 0:00:00\n",
      "Requirement already satisfied: networkx in c:\\users\\micom\\appdata\\local\\packages\\pythonsoftwarefoundation.python.3.10_qbz5n2kfra8p0\\localcache\\local-packages\\python310\\site-packages (from torch>=1.7.0->ultralytics) (3.0)\n",
      "Collecting filelock\n",
      "  Downloading filelock-3.12.2-py3-none-any.whl (10 kB)\n",
      "Requirement already satisfied: jinja2 in c:\\users\\micom\\appdata\\local\\packages\\pythonsoftwarefoundation.python.3.10_qbz5n2kfra8p0\\localcache\\local-packages\\python310\\site-packages (from torch>=1.7.0->ultralytics) (3.1.2)\n",
      "Requirement already satisfied: colorama in c:\\users\\micom\\appdata\\local\\packages\\pythonsoftwarefoundation.python.3.10_qbz5n2kfra8p0\\localcache\\local-packages\\python310\\site-packages (from tqdm>=4.64.0->ultralytics) (0.4.6)\n",
      "Requirement already satisfied: six>=1.5 in c:\\users\\micom\\appdata\\local\\packages\\pythonsoftwarefoundation.python.3.10_qbz5n2kfra8p0\\localcache\\local-packages\\python310\\site-packages (from python-dateutil>=2.7->matplotlib>=3.2.2->ultralytics) (1.16.0)\n",
      "Requirement already satisfied: MarkupSafe>=2.0 in c:\\users\\micom\\appdata\\local\\packages\\pythonsoftwarefoundation.python.3.10_qbz5n2kfra8p0\\localcache\\local-packages\\python310\\site-packages (from jinja2->torch>=1.7.0->ultralytics) (2.1.1)\n",
      "Collecting mpmath>=0.19\n",
      "  Downloading mpmath-1.3.0-py3-none-any.whl (536 kB)\n",
      "     ------------------------------------ 536.2/536.2 kB 480.8 kB/s eta 0:00:00\n",
      "Installing collected packages: mpmath, sympy, filelock, torch, torchvision, seaborn, ultralytics\n",
      "Successfully installed filelock-3.12.2 mpmath-1.3.0 seaborn-0.12.2 sympy-1.12 torch-2.0.1 torchvision-0.15.2 ultralytics-8.0.117\n"
     ]
    },
    {
     "name": "stderr",
     "output_type": "stream",
     "text": [
      "WARNING: Error parsing requirements for pip: [Errno 2] No such file or directory: 'c:\\\\users\\\\micom\\\\appdata\\\\local\\\\packages\\\\pythonsoftwarefoundation.python.3.10_qbz5n2kfra8p0\\\\localcache\\\\local-packages\\\\python310\\\\site-packages\\\\pip-23.0.1.dist-info\\\\METADATA'\n"
     ]
    }
   ],
   "source": [
    "!pip install ultralytics\n"
   ]
  },
  {
   "cell_type": "code",
   "execution_count": 1,
   "metadata": {},
   "outputs": [
    {
     "data": {
      "text/plain": [
       "True"
      ]
     },
     "execution_count": 1,
     "metadata": {},
     "output_type": "execute_result"
    }
   ],
   "source": [
    "from ultralytics import YOLO\n",
    "import cv2\n",
    "\n",
    "import torch\n",
    "torch.cuda.is_available()"
   ]
  },
  {
   "cell_type": "code",
   "execution_count": 3,
   "metadata": {},
   "outputs": [],
   "source": [
    "model = YOLO(\"best.pt\")  # load a pretrained model (recommended for training)\n"
   ]
  },
  {
   "cell_type": "code",
   "execution_count": 7,
   "metadata": {},
   "outputs": [
    {
     "name": "stderr",
     "output_type": "stream",
     "text": [
      "\n"
     ]
    },
    {
     "name": "stderr",
     "output_type": "stream",
     "text": [
      "0: 384x640 2 cups, 31.0ms\n",
      "Speed: 4.0ms preprocess, 31.0ms inference, 432.0ms postprocess per image at shape (1, 3, 640, 640)\n"
     ]
    }
   ],
   "source": [
    "#read image\n",
    "img = cv2.imread(\"KEBUKE/202306151105_Kebuke.jpg\")\n",
    "results = model(img)  # predict on an image\n"
   ]
  },
  {
   "cell_type": "code",
   "execution_count": 8,
   "metadata": {},
   "outputs": [],
   "source": [
    "for i, (result) in enumerate(results):\n",
    "    boxes = result.boxes\n",
    "    for box in boxes:\n",
    "        xyxy = box.xyxy[0]  # get box coordinates in (top, left, bottom, right) format\n",
    "        t = int(xyxy[0].item())\n",
    "        l = int(xyxy[1].item())\n",
    "        b = int(xyxy[2].item())\n",
    "        r = int(xyxy[3].item())\n",
    "        crop_img = img[l:r, t:b]\n"
   ]
  },
  {
   "cell_type": "code",
   "execution_count": 9,
   "metadata": {},
   "outputs": [
    {
     "data": {
      "text/plain": [
       "-1"
      ]
     },
     "execution_count": 9,
     "metadata": {},
     "output_type": "execute_result"
    }
   ],
   "source": [
    "cv2.imshow(\"result\", crop_img)\n",
    "cv2.waitKey(0)"
   ]
  },
  {
   "cell_type": "code",
   "execution_count": 1,
   "metadata": {},
   "outputs": [
    {
     "ename": "ModuleNotFoundError",
     "evalue": "No module named 'cv2'",
     "output_type": "error",
     "traceback": [
      "\u001b[1;31m---------------------------------------------------------------------------\u001b[0m",
      "\u001b[1;31mModuleNotFoundError\u001b[0m                       Traceback (most recent call last)",
      "Cell \u001b[1;32mIn[1], line 1\u001b[0m\n\u001b[1;32m----> 1\u001b[0m \u001b[39mimport\u001b[39;00m \u001b[39mcv2\u001b[39;00m\n\u001b[0;32m      2\u001b[0m \u001b[39mfrom\u001b[39;00m \u001b[39multralytics\u001b[39;00m\u001b[39m.\u001b[39;00m\u001b[39myolo\u001b[39;00m\u001b[39m.\u001b[39;00m\u001b[39mengine\u001b[39;00m\u001b[39m.\u001b[39;00m\u001b[39mmodel\u001b[39;00m \u001b[39mimport\u001b[39;00m YOLO\n\u001b[0;32m      3\u001b[0m \u001b[39mfrom\u001b[39;00m \u001b[39mpyzbar\u001b[39;00m\u001b[39m.\u001b[39;00m\u001b[39mpyzbar\u001b[39;00m \u001b[39mimport\u001b[39;00m decode\n",
      "\u001b[1;31mModuleNotFoundError\u001b[0m: No module named 'cv2'"
     ]
    }
   ],
   "source": [
    "\"\"\" Some code from stackoverflow demonstarting how to crop image\n",
    "import cv2\n",
    "from ultralytics.yolo.engine.model import YOLO\n",
    "from pyzbar.pyzbar import decode\n",
    "\n",
    "    \n",
    "def on_predict_batch_end(predictor):\n",
    "    # results -> List[batch_size]\n",
    "    path, im, im0s, vid_cap, s = predictor.batch\n",
    "    predictor.results = zip(predictor.results, im0s)\n",
    "         \n",
    "\n",
    "model = YOLO(\"yolov8n.pt\")\n",
    "model.add_callback(\"on_predict_batch_end\", on_predict_batch_end)\n",
    "results = model.predict(source=\"0\", show=True, stream=True)\n",
    "for i, (result, im0) in enumerate(results):\n",
    "    boxes = result.boxes\n",
    "    for box in boxes:\n",
    "        xyxy = box.xyxy[0]  # get box coordinates in (top, left, bottom, right) format\n",
    "        t = int(xyxy[0].item())\n",
    "        l = int(xyxy[1].item())\n",
    "        b = int(xyxy[2].item())\n",
    "        r = int(xyxy[3].item())\n",
    "        crop_img = im0[l:r, t:b]\n",
    "        d = decode(crop_img)\n",
    "        print(d)\n",
    "        cv2.imshow('YOLO V8 crop', crop_img)  \n",
    "\"\"\"            "
   ]
  }
 ],
 "metadata": {
  "kernelspec": {
   "display_name": "Python 3",
   "language": "python",
   "name": "python3"
  },
  "language_info": {
   "codemirror_mode": {
    "name": "ipython",
    "version": 3
   },
   "file_extension": ".py",
   "mimetype": "text/x-python",
   "name": "python",
   "nbconvert_exporter": "python",
   "pygments_lexer": "ipython3",
   "version": "3.10.11"
  },
  "orig_nbformat": 4
 },
 "nbformat": 4,
 "nbformat_minor": 2
}
