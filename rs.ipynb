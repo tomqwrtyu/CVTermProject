{
 "cells": [
  {
   "cell_type": "code",
   "execution_count": 1,
   "metadata": {},
   "outputs": [],
   "source": [
    "import cv2 \n",
    "import numpy as np\n",
    "import time\n",
    "import pyrealsense2 as rs"
   ]
  },
  {
   "cell_type": "code",
   "execution_count": 11,
   "metadata": {},
   "outputs": [],
   "source": [
    "pipeline = rs.pipeline()\n",
    "config = rs.config()\n",
    "\n",
    "config.enable_stream(rs.stream.depth, 1280, 720, rs.format.z16, 30)\n",
    "config.enable_stream(rs.stream.color, 1280, 720, rs.format.bgr8, 30)\n",
    "\n",
    "profile = pipeline.start(config)\n",
    "depth_sensor = profile.get_device().first_depth_sensor()\n",
    "if depth_sensor.supports(rs.option.depth_units):\n",
    "    depth_sensor.set_option(rs.option.depth_units,0.001)\n",
    "depth_scale = depth_sensor.get_depth_scale()\n",
    "align = rs.align(rs.stream.color)"
   ]
  },
  {
   "cell_type": "code",
   "execution_count": 10,
   "metadata": {},
   "outputs": [],
   "source": [
    "pipeline.stop()"
   ]
  },
  {
   "cell_type": "code",
   "execution_count": 3,
   "metadata": {},
   "outputs": [],
   "source": [
    "frames = pipeline.wait_for_frames()\n",
    "aligned_frames = align.process(frames)   \n",
    "depth_frame = aligned_frames.get_depth_frame() \n",
    "color_frame = aligned_frames.get_color_frame()\n",
    "frame = np.asanyarray(color_frame.get_data())"
   ]
  },
  {
   "cell_type": "code",
   "execution_count": 5,
   "metadata": {},
   "outputs": [
    {
     "data": {
      "text/plain": [
       "0.3660000264644623"
      ]
     },
     "execution_count": 5,
     "metadata": {},
     "output_type": "execute_result"
    }
   ],
   "source": [
    "depth_frame.get_distance(360, 640)"
   ]
  },
  {
   "cell_type": "code",
   "execution_count": 12,
   "metadata": {},
   "outputs": [],
   "source": [
    "while True:\n",
    "    frames = pipeline.wait_for_frames()\n",
    "    if not frames:\n",
    "        break\n",
    "\n",
    "    aligned_frames = align.process(frames)   \n",
    "    depth_frame = aligned_frames.get_depth_frame() \n",
    "    color_frame = aligned_frames.get_color_frame()\n",
    "    frame = np.asanyarray(color_frame.get_data())\n",
    "    cv2.imshow(\"Realsense RGB\", frame)\n",
    "\n",
    "    key = cv2.waitKey(1)\n",
    "    if key == ord('s') or key == ord('S'):\n",
    "        now = time.localtime(time.time())\n",
    "        y = str(now.tm_year)\n",
    "        m = str(now.tm_mon) if now.tm_mon > 9 else '0' + str(now.tm_mon)\n",
    "        h = str(now.tm_hour) if now.tm_hour > 9 else '0' + str(now.tm_hour)\n",
    "        u = str(now.tm_min) if now.tm_min > 9 else '0' + str(now.tm_min)\n",
    "        s = str(now.tm_sec) if now.tm_sec > 9 else '0' + str(now.tm_sec)\n",
    "        cv2.imwrite(\"{}{}{}{}{}_Kebuke.jpg\".format(y, m, h, u, s), frame)\n",
    "        \n",
    "    if key == 27:  # ESC key: quit program\n",
    "        cv2.destroyAllWindows()\n",
    "        break"
   ]
  },
  {
   "cell_type": "code",
   "execution_count": 6,
   "metadata": {},
   "outputs": [],
   "source": [
    "sift_detector = cv2.SIFT_create()\n",
    "img = cv2.imread(\"3kbk_Color.png\")\n",
    "aging = cv2.imread(\"aging1.png\")\n",
    "kpts_img, des_img = sift_detector.detectAndCompute(cv2.cvtColor(img, cv2.COLOR_BGR2GRAY), None)\n",
    "kpts_aging, des_aging = sift_detector.detectAndCompute(cv2.cvtColor(aging, cv2.COLOR_BGR2GRAY), None)"
   ]
  },
  {
   "cell_type": "code",
   "execution_count": 16,
   "metadata": {},
   "outputs": [],
   "source": [
    "kpts_bimg, des_bimg = sift_detector.detectAndCompute(cv2.GaussianBlur(cv2.cvtColor(img, cv2.COLOR_BGR2GRAY), ksize=(5, 5), sigmaX=0.7), None)\n",
    "kpts_baging, des_baging = sift_detector.detectAndCompute(cv2.GaussianBlur(cv2.cvtColor(aging, cv2.COLOR_BGR2GRAY), ksize=(5, 5), sigmaX=0.7), None)"
   ]
  },
  {
   "cell_type": "code",
   "execution_count": 18,
   "metadata": {},
   "outputs": [],
   "source": [
    "# FLANN parameters\n",
    "FLANN_INDEX_KDTREE = 1\n",
    "index_params = dict(algorithm = FLANN_INDEX_KDTREE, trees = 5)\n",
    "search_params = dict(checks=50)   # or pass empty dictionary\n",
    "flann = cv2.FlannBasedMatcher(index_params,search_params)\n",
    "matches = flann.knnMatch(des_bimg,des_baging,k=2)\n",
    "# Need to draw only good matches, so create a mask\n",
    "matchesMask = [[0,0] for i in range(len(matches))]\n",
    "# ratio test as per Lowe's paper\n",
    "for i,(m,n) in enumerate(matches):\n",
    "    if m.distance < 0.6*n.distance:\n",
    "        matchesMask[i]=[1,0]\n",
    "draw_params = dict(matchColor = (0,255,0),\n",
    "                   singlePointColor = (255,0,0),\n",
    "                   matchesMask = matchesMask,\n",
    "                   flags = cv2.DrawMatchesFlags_DEFAULT)\n",
    "img3 = cv2.drawMatchesKnn(img,kpts_bimg,aging,kpts_baging,matches,None,**draw_params)\n",
    "cv2.imshow(\"ouo\", img3)\n",
    "cv2.waitKey()\n",
    "cv2.destroyAllWindows()"
   ]
  },
  {
   "cell_type": "code",
   "execution_count": 3,
   "metadata": {},
   "outputs": [],
   "source": [
    "cv2.imshow(\"ouo\", img)\n",
    "cv2.waitKey()\n",
    "cv2.destroyAllWindows()"
   ]
  }
 ],
 "metadata": {
  "kernelspec": {
   "display_name": "Python 3",
   "language": "python",
   "name": "python3"
  },
  "language_info": {
   "codemirror_mode": {
    "name": "ipython",
    "version": 3
   },
   "file_extension": ".py",
   "mimetype": "text/x-python",
   "name": "python",
   "nbconvert_exporter": "python",
   "pygments_lexer": "ipython3",
   "version": "3.10.11"
  },
  "orig_nbformat": 4,
  "vscode": {
   "interpreter": {
    "hash": "369f2c481f4da34e4445cda3fffd2e751bd1c4d706f27375911949ba6bb62e1c"
   }
  }
 },
 "nbformat": 4,
 "nbformat_minor": 2
}
